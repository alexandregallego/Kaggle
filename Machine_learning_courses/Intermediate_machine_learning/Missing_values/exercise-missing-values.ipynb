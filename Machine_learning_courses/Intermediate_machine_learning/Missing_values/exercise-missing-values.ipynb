{
 "cells": [
  {
   "cell_type": "markdown",
   "id": "89b99c2e",
   "metadata": {
    "papermill": {
     "duration": 0.011633,
     "end_time": "2023-10-10T18:25:46.805209",
     "exception": false,
     "start_time": "2023-10-10T18:25:46.793576",
     "status": "completed"
    },
    "tags": []
   },
   "source": [
    "**This notebook is an exercise in the [Intermediate Machine Learning](https://www.kaggle.com/learn/intermediate-machine-learning) course.  You can reference the tutorial at [this link](https://www.kaggle.com/alexisbcook/missing-values).**\n",
    "\n",
    "---\n"
   ]
  },
  {
   "cell_type": "markdown",
   "id": "daf9f57d",
   "metadata": {
    "papermill": {
     "duration": 0.006561,
     "end_time": "2023-10-10T18:25:46.823140",
     "exception": false,
     "start_time": "2023-10-10T18:25:46.816579",
     "status": "completed"
    },
    "tags": []
   },
   "source": [
    "Now it's your turn to test your new knowledge of **missing values** handling. You'll probably find it makes a big difference.\n",
    "\n",
    "# Setup\n",
    "\n",
    "The questions will give you feedback on your work. Run the following cell to set up the feedback system."
   ]
  },
  {
   "cell_type": "code",
   "execution_count": 1,
   "id": "d5a2ccae",
   "metadata": {
    "execution": {
     "iopub.execute_input": "2023-10-10T18:25:46.837702Z",
     "iopub.status.busy": "2023-10-10T18:25:46.837205Z",
     "iopub.status.idle": "2023-10-10T18:25:47.578406Z",
     "shell.execute_reply": "2023-10-10T18:25:47.577754Z"
    },
    "papermill": {
     "duration": 0.751233,
     "end_time": "2023-10-10T18:25:47.580822",
     "exception": false,
     "start_time": "2023-10-10T18:25:46.829589",
     "status": "completed"
    },
    "tags": []
   },
   "outputs": [
    {
     "name": "stdout",
     "output_type": "stream",
     "text": [
      "Setup Complete\n"
     ]
    }
   ],
   "source": [
    "# Set up code checking\n",
    "import os\n",
    "if not os.path.exists(\"../input/train.csv\"):\n",
    "    os.symlink(\"../input/home-data-for-ml-course/train.csv\", \"../input/train.csv\")  \n",
    "    os.symlink(\"../input/home-data-for-ml-course/test.csv\", \"../input/test.csv\") \n",
    "from learntools.core import binder\n",
    "binder.bind(globals())\n",
    "from learntools.ml_intermediate.ex2 import *\n",
    "print(\"Setup Complete\")"
   ]
  },
  {
   "cell_type": "markdown",
   "id": "1b204541",
   "metadata": {
    "papermill": {
     "duration": 0.006281,
     "end_time": "2023-10-10T18:25:47.594006",
     "exception": false,
     "start_time": "2023-10-10T18:25:47.587725",
     "status": "completed"
    },
    "tags": []
   },
   "source": [
    "In this exercise, you will work with data from the [Housing Prices Competition for Kaggle Learn Users](https://www.kaggle.com/c/home-data-for-ml-course). \n",
    "\n",
    "![Ames Housing dataset image](https://storage.googleapis.com/kaggle-media/learn/images/lTJVG4e.png)\n",
    "\n",
    "Run the next code cell without changes to load the training and validation sets in `X_train`, `X_valid`, `y_train`, and `y_valid`.  The test set is loaded in `X_test`."
   ]
  },
  {
   "cell_type": "code",
   "execution_count": 2,
   "id": "64be8f48",
   "metadata": {
    "execution": {
     "iopub.execute_input": "2023-10-10T18:25:47.608383Z",
     "iopub.status.busy": "2023-10-10T18:25:47.607773Z",
     "iopub.status.idle": "2023-10-10T18:25:48.861543Z",
     "shell.execute_reply": "2023-10-10T18:25:48.860787Z"
    },
    "papermill": {
     "duration": 1.263314,
     "end_time": "2023-10-10T18:25:48.863684",
     "exception": false,
     "start_time": "2023-10-10T18:25:47.600370",
     "status": "completed"
    },
    "tags": []
   },
   "outputs": [],
   "source": [
    "import pandas as pd\n",
    "from sklearn.model_selection import train_test_split\n",
    "\n",
    "# Read the data\n",
    "X_full = pd.read_csv('../input/train.csv', index_col='Id')\n",
    "X_test_full = pd.read_csv('../input/test.csv', index_col='Id')\n",
    "\n",
    "# Remove rows with missing target, separate target from predictors\n",
    "X_full.dropna(axis=0, subset=['SalePrice'], inplace=True)\n",
    "y = X_full.SalePrice\n",
    "X_full.drop(['SalePrice'], axis=1, inplace=True)\n",
    "\n",
    "# To keep things simple, we'll use only numerical predictors\n",
    "X = X_full.select_dtypes(exclude=['object'])\n",
    "X_test = X_test_full.select_dtypes(exclude=['object'])\n",
    "\n",
    "# Break off validation set from training data\n",
    "X_train, X_valid, y_train, y_valid = train_test_split(X, y, train_size=0.8, test_size=0.2,\n",
    "                                                      random_state=0)"
   ]
  },
  {
   "cell_type": "markdown",
   "id": "2519b744",
   "metadata": {
    "papermill": {
     "duration": 0.006857,
     "end_time": "2023-10-10T18:25:48.877414",
     "exception": false,
     "start_time": "2023-10-10T18:25:48.870557",
     "status": "completed"
    },
    "tags": []
   },
   "source": [
    "Use the next code cell to print the first five rows of the data."
   ]
  },
  {
   "cell_type": "code",
   "execution_count": 3,
   "id": "238a62c1",
   "metadata": {
    "execution": {
     "iopub.execute_input": "2023-10-10T18:25:48.892566Z",
     "iopub.status.busy": "2023-10-10T18:25:48.891851Z",
     "iopub.status.idle": "2023-10-10T18:25:48.914680Z",
     "shell.execute_reply": "2023-10-10T18:25:48.913647Z"
    },
    "papermill": {
     "duration": 0.032532,
     "end_time": "2023-10-10T18:25:48.916539",
     "exception": false,
     "start_time": "2023-10-10T18:25:48.884007",
     "status": "completed"
    },
    "tags": []
   },
   "outputs": [
    {
     "data": {
      "text/html": [
       "<div>\n",
       "<style scoped>\n",
       "    .dataframe tbody tr th:only-of-type {\n",
       "        vertical-align: middle;\n",
       "    }\n",
       "\n",
       "    .dataframe tbody tr th {\n",
       "        vertical-align: top;\n",
       "    }\n",
       "\n",
       "    .dataframe thead th {\n",
       "        text-align: right;\n",
       "    }\n",
       "</style>\n",
       "<table border=\"1\" class=\"dataframe\">\n",
       "  <thead>\n",
       "    <tr style=\"text-align: right;\">\n",
       "      <th></th>\n",
       "      <th>MSSubClass</th>\n",
       "      <th>LotFrontage</th>\n",
       "      <th>LotArea</th>\n",
       "      <th>OverallQual</th>\n",
       "      <th>OverallCond</th>\n",
       "      <th>YearBuilt</th>\n",
       "      <th>YearRemodAdd</th>\n",
       "      <th>MasVnrArea</th>\n",
       "      <th>BsmtFinSF1</th>\n",
       "      <th>BsmtFinSF2</th>\n",
       "      <th>...</th>\n",
       "      <th>GarageArea</th>\n",
       "      <th>WoodDeckSF</th>\n",
       "      <th>OpenPorchSF</th>\n",
       "      <th>EnclosedPorch</th>\n",
       "      <th>3SsnPorch</th>\n",
       "      <th>ScreenPorch</th>\n",
       "      <th>PoolArea</th>\n",
       "      <th>MiscVal</th>\n",
       "      <th>MoSold</th>\n",
       "      <th>YrSold</th>\n",
       "    </tr>\n",
       "    <tr>\n",
       "      <th>Id</th>\n",
       "      <th></th>\n",
       "      <th></th>\n",
       "      <th></th>\n",
       "      <th></th>\n",
       "      <th></th>\n",
       "      <th></th>\n",
       "      <th></th>\n",
       "      <th></th>\n",
       "      <th></th>\n",
       "      <th></th>\n",
       "      <th></th>\n",
       "      <th></th>\n",
       "      <th></th>\n",
       "      <th></th>\n",
       "      <th></th>\n",
       "      <th></th>\n",
       "      <th></th>\n",
       "      <th></th>\n",
       "      <th></th>\n",
       "      <th></th>\n",
       "      <th></th>\n",
       "    </tr>\n",
       "  </thead>\n",
       "  <tbody>\n",
       "    <tr>\n",
       "      <th>619</th>\n",
       "      <td>20</td>\n",
       "      <td>90.0</td>\n",
       "      <td>11694</td>\n",
       "      <td>9</td>\n",
       "      <td>5</td>\n",
       "      <td>2007</td>\n",
       "      <td>2007</td>\n",
       "      <td>452.0</td>\n",
       "      <td>48</td>\n",
       "      <td>0</td>\n",
       "      <td>...</td>\n",
       "      <td>774</td>\n",
       "      <td>0</td>\n",
       "      <td>108</td>\n",
       "      <td>0</td>\n",
       "      <td>0</td>\n",
       "      <td>260</td>\n",
       "      <td>0</td>\n",
       "      <td>0</td>\n",
       "      <td>7</td>\n",
       "      <td>2007</td>\n",
       "    </tr>\n",
       "    <tr>\n",
       "      <th>871</th>\n",
       "      <td>20</td>\n",
       "      <td>60.0</td>\n",
       "      <td>6600</td>\n",
       "      <td>5</td>\n",
       "      <td>5</td>\n",
       "      <td>1962</td>\n",
       "      <td>1962</td>\n",
       "      <td>0.0</td>\n",
       "      <td>0</td>\n",
       "      <td>0</td>\n",
       "      <td>...</td>\n",
       "      <td>308</td>\n",
       "      <td>0</td>\n",
       "      <td>0</td>\n",
       "      <td>0</td>\n",
       "      <td>0</td>\n",
       "      <td>0</td>\n",
       "      <td>0</td>\n",
       "      <td>0</td>\n",
       "      <td>8</td>\n",
       "      <td>2009</td>\n",
       "    </tr>\n",
       "    <tr>\n",
       "      <th>93</th>\n",
       "      <td>30</td>\n",
       "      <td>80.0</td>\n",
       "      <td>13360</td>\n",
       "      <td>5</td>\n",
       "      <td>7</td>\n",
       "      <td>1921</td>\n",
       "      <td>2006</td>\n",
       "      <td>0.0</td>\n",
       "      <td>713</td>\n",
       "      <td>0</td>\n",
       "      <td>...</td>\n",
       "      <td>432</td>\n",
       "      <td>0</td>\n",
       "      <td>0</td>\n",
       "      <td>44</td>\n",
       "      <td>0</td>\n",
       "      <td>0</td>\n",
       "      <td>0</td>\n",
       "      <td>0</td>\n",
       "      <td>8</td>\n",
       "      <td>2009</td>\n",
       "    </tr>\n",
       "    <tr>\n",
       "      <th>818</th>\n",
       "      <td>20</td>\n",
       "      <td>NaN</td>\n",
       "      <td>13265</td>\n",
       "      <td>8</td>\n",
       "      <td>5</td>\n",
       "      <td>2002</td>\n",
       "      <td>2002</td>\n",
       "      <td>148.0</td>\n",
       "      <td>1218</td>\n",
       "      <td>0</td>\n",
       "      <td>...</td>\n",
       "      <td>857</td>\n",
       "      <td>150</td>\n",
       "      <td>59</td>\n",
       "      <td>0</td>\n",
       "      <td>0</td>\n",
       "      <td>0</td>\n",
       "      <td>0</td>\n",
       "      <td>0</td>\n",
       "      <td>7</td>\n",
       "      <td>2008</td>\n",
       "    </tr>\n",
       "    <tr>\n",
       "      <th>303</th>\n",
       "      <td>20</td>\n",
       "      <td>118.0</td>\n",
       "      <td>13704</td>\n",
       "      <td>7</td>\n",
       "      <td>5</td>\n",
       "      <td>2001</td>\n",
       "      <td>2002</td>\n",
       "      <td>150.0</td>\n",
       "      <td>0</td>\n",
       "      <td>0</td>\n",
       "      <td>...</td>\n",
       "      <td>843</td>\n",
       "      <td>468</td>\n",
       "      <td>81</td>\n",
       "      <td>0</td>\n",
       "      <td>0</td>\n",
       "      <td>0</td>\n",
       "      <td>0</td>\n",
       "      <td>0</td>\n",
       "      <td>1</td>\n",
       "      <td>2006</td>\n",
       "    </tr>\n",
       "  </tbody>\n",
       "</table>\n",
       "<p>5 rows × 36 columns</p>\n",
       "</div>"
      ],
      "text/plain": [
       "     MSSubClass  LotFrontage  LotArea  OverallQual  OverallCond  YearBuilt  \\\n",
       "Id                                                                           \n",
       "619          20         90.0    11694            9            5       2007   \n",
       "871          20         60.0     6600            5            5       1962   \n",
       "93           30         80.0    13360            5            7       1921   \n",
       "818          20          NaN    13265            8            5       2002   \n",
       "303          20        118.0    13704            7            5       2001   \n",
       "\n",
       "     YearRemodAdd  MasVnrArea  BsmtFinSF1  BsmtFinSF2  ...  GarageArea  \\\n",
       "Id                                                     ...               \n",
       "619          2007       452.0          48           0  ...         774   \n",
       "871          1962         0.0           0           0  ...         308   \n",
       "93           2006         0.0         713           0  ...         432   \n",
       "818          2002       148.0        1218           0  ...         857   \n",
       "303          2002       150.0           0           0  ...         843   \n",
       "\n",
       "     WoodDeckSF  OpenPorchSF  EnclosedPorch  3SsnPorch  ScreenPorch  PoolArea  \\\n",
       "Id                                                                              \n",
       "619           0          108              0          0          260         0   \n",
       "871           0            0              0          0            0         0   \n",
       "93            0            0             44          0            0         0   \n",
       "818         150           59              0          0            0         0   \n",
       "303         468           81              0          0            0         0   \n",
       "\n",
       "     MiscVal  MoSold  YrSold  \n",
       "Id                            \n",
       "619        0       7    2007  \n",
       "871        0       8    2009  \n",
       "93         0       8    2009  \n",
       "818        0       7    2008  \n",
       "303        0       1    2006  \n",
       "\n",
       "[5 rows x 36 columns]"
      ]
     },
     "execution_count": 3,
     "metadata": {},
     "output_type": "execute_result"
    }
   ],
   "source": [
    "X_train.head()"
   ]
  },
  {
   "cell_type": "markdown",
   "id": "7f203d8f",
   "metadata": {
    "papermill": {
     "duration": 0.006332,
     "end_time": "2023-10-10T18:25:48.929941",
     "exception": false,
     "start_time": "2023-10-10T18:25:48.923609",
     "status": "completed"
    },
    "tags": []
   },
   "source": [
    "You can already see a few missing values in the first several rows.  In the next step, you'll obtain a more comprehensive understanding of the missing values in the dataset.\n",
    "\n",
    "# Step 1: Preliminary investigation\n",
    "\n",
    "Run the code cell below without changes."
   ]
  },
  {
   "cell_type": "code",
   "execution_count": 4,
   "id": "2c8a785b",
   "metadata": {
    "execution": {
     "iopub.execute_input": "2023-10-10T18:25:48.944611Z",
     "iopub.status.busy": "2023-10-10T18:25:48.944259Z",
     "iopub.status.idle": "2023-10-10T18:25:48.951730Z",
     "shell.execute_reply": "2023-10-10T18:25:48.950643Z"
    },
    "papermill": {
     "duration": 0.016889,
     "end_time": "2023-10-10T18:25:48.953394",
     "exception": false,
     "start_time": "2023-10-10T18:25:48.936505",
     "status": "completed"
    },
    "tags": []
   },
   "outputs": [
    {
     "name": "stdout",
     "output_type": "stream",
     "text": [
      "(1168, 36)\n",
      "LotFrontage    212\n",
      "MasVnrArea       6\n",
      "GarageYrBlt     58\n",
      "dtype: int64\n"
     ]
    }
   ],
   "source": [
    "# Shape of training data (num_rows, num_columns)\n",
    "print(X_train.shape)\n",
    "\n",
    "# Number of missing values in each column of training data\n",
    "missing_val_count_by_column = (X_train.isnull().sum())\n",
    "print(missing_val_count_by_column[missing_val_count_by_column > 0])"
   ]
  },
  {
   "cell_type": "markdown",
   "id": "964cd114",
   "metadata": {
    "papermill": {
     "duration": 0.006441,
     "end_time": "2023-10-10T18:25:48.966561",
     "exception": false,
     "start_time": "2023-10-10T18:25:48.960120",
     "status": "completed"
    },
    "tags": []
   },
   "source": [
    "### Part A\n",
    "\n",
    "Use the above output to answer the questions below."
   ]
  },
  {
   "cell_type": "code",
   "execution_count": 5,
   "id": "e8af4236",
   "metadata": {
    "execution": {
     "iopub.execute_input": "2023-10-10T18:25:48.981773Z",
     "iopub.status.busy": "2023-10-10T18:25:48.980955Z",
     "iopub.status.idle": "2023-10-10T18:25:48.988874Z",
     "shell.execute_reply": "2023-10-10T18:25:48.987948Z"
    },
    "papermill": {
     "duration": 0.017646,
     "end_time": "2023-10-10T18:25:48.990874",
     "exception": false,
     "start_time": "2023-10-10T18:25:48.973228",
     "status": "completed"
    },
    "tags": []
   },
   "outputs": [
    {
     "data": {
      "application/javascript": [
       "parent.postMessage({\"jupyterEvent\": \"custom.exercise_interaction\", \"data\": {\"outcomeType\": 1, \"valueTowardsCompletion\": 1.0, \"interactionType\": 1, \"questionType\": 1, \"questionId\": \"1.1_InvestigateEquality\", \"learnToolsVersion\": \"0.3.4\", \"failureMessage\": \"\", \"exceptionClass\": \"\", \"trace\": \"\"}}, \"*\")"
      ],
      "text/plain": [
       "<IPython.core.display.Javascript object>"
      ]
     },
     "metadata": {},
     "output_type": "display_data"
    },
    {
     "data": {
      "text/markdown": [
       "<span style=\"color:#33cc33\">Correct</span>"
      ],
      "text/plain": [
       "Correct"
      ]
     },
     "metadata": {},
     "output_type": "display_data"
    }
   ],
   "source": [
    "# Fill in the line below: How many rows are in the training data?\n",
    "num_rows = 1168\n",
    "\n",
    "# Fill in the line below: How many columns in the training data\n",
    "# have missing values?\n",
    "num_cols_with_missing = 3\n",
    "\n",
    "# Fill in the line below: How many missing entries are contained in \n",
    "# all of the training data?\n",
    "tot_missing = 276\n",
    "\n",
    "# Check your answers\n",
    "step_1.a.check()"
   ]
  },
  {
   "cell_type": "code",
   "execution_count": 6,
   "id": "6b339179",
   "metadata": {
    "execution": {
     "iopub.execute_input": "2023-10-10T18:25:49.006490Z",
     "iopub.status.busy": "2023-10-10T18:25:49.006145Z",
     "iopub.status.idle": "2023-10-10T18:25:49.010127Z",
     "shell.execute_reply": "2023-10-10T18:25:49.009236Z"
    },
    "papermill": {
     "duration": 0.013808,
     "end_time": "2023-10-10T18:25:49.011960",
     "exception": false,
     "start_time": "2023-10-10T18:25:48.998152",
     "status": "completed"
    },
    "tags": []
   },
   "outputs": [],
   "source": [
    "# Lines below will give you a hint or solution code\n",
    "#step_1.a.hint()\n",
    "#step_1.a.solution()"
   ]
  },
  {
   "cell_type": "markdown",
   "id": "404af8c2",
   "metadata": {
    "papermill": {
     "duration": 0.006734,
     "end_time": "2023-10-10T18:25:49.026132",
     "exception": false,
     "start_time": "2023-10-10T18:25:49.019398",
     "status": "completed"
    },
    "tags": []
   },
   "source": [
    "### Part B\n",
    "Considering your answers above, what do you think is likely the best approach to dealing with the missing values?"
   ]
  },
  {
   "cell_type": "code",
   "execution_count": 7,
   "id": "d64d919b",
   "metadata": {
    "execution": {
     "iopub.execute_input": "2023-10-10T18:25:49.041886Z",
     "iopub.status.busy": "2023-10-10T18:25:49.041566Z",
     "iopub.status.idle": "2023-10-10T18:25:49.048966Z",
     "shell.execute_reply": "2023-10-10T18:25:49.048130Z"
    },
    "papermill": {
     "duration": 0.017594,
     "end_time": "2023-10-10T18:25:49.050597",
     "exception": false,
     "start_time": "2023-10-10T18:25:49.033003",
     "status": "completed"
    },
    "tags": []
   },
   "outputs": [
    {
     "data": {
      "application/javascript": [
       "parent.postMessage({\"jupyterEvent\": \"custom.exercise_interaction\", \"data\": {\"outcomeType\": 1, \"valueTowardsCompletion\": 1.0, \"interactionType\": 1, \"questionType\": 4, \"questionId\": \"1.2_InvestigateThought\", \"learnToolsVersion\": \"0.3.4\", \"failureMessage\": \"\", \"exceptionClass\": \"\", \"trace\": \"\"}}, \"*\")"
      ],
      "text/plain": [
       "<IPython.core.display.Javascript object>"
      ]
     },
     "metadata": {},
     "output_type": "display_data"
    },
    {
     "data": {
      "text/markdown": [
       "<span style=\"color:#33cc33\">Correct:</span> \n",
       "\n",
       "Since there are relatively few missing entries in the data (the column with the greatest percentage of missing values is missing less than 20% of its entries), we can expect that dropping columns is unlikely to yield good results.  This is because we'd be throwing away a lot of valuable data, and so imputation will likely perform better."
      ],
      "text/plain": [
       "Correct: \n",
       "\n",
       "Since there are relatively few missing entries in the data (the column with the greatest percentage of missing values is missing less than 20% of its entries), we can expect that dropping columns is unlikely to yield good results.  This is because we'd be throwing away a lot of valuable data, and so imputation will likely perform better."
      ]
     },
     "metadata": {},
     "output_type": "display_data"
    }
   ],
   "source": [
    "# Check your answer (Run this code cell to receive credit!)\n",
    "step_1.b.check()"
   ]
  },
  {
   "cell_type": "code",
   "execution_count": 8,
   "id": "e4feba83",
   "metadata": {
    "execution": {
     "iopub.execute_input": "2023-10-10T18:25:49.066253Z",
     "iopub.status.busy": "2023-10-10T18:25:49.065938Z",
     "iopub.status.idle": "2023-10-10T18:25:49.069754Z",
     "shell.execute_reply": "2023-10-10T18:25:49.068801Z"
    },
    "papermill": {
     "duration": 0.013579,
     "end_time": "2023-10-10T18:25:49.071450",
     "exception": false,
     "start_time": "2023-10-10T18:25:49.057871",
     "status": "completed"
    },
    "tags": []
   },
   "outputs": [],
   "source": [
    "#step_1.b.hint()"
   ]
  },
  {
   "cell_type": "markdown",
   "id": "90512b59",
   "metadata": {
    "papermill": {
     "duration": 0.006839,
     "end_time": "2023-10-10T18:25:49.085618",
     "exception": false,
     "start_time": "2023-10-10T18:25:49.078779",
     "status": "completed"
    },
    "tags": []
   },
   "source": [
    "To compare different approaches to dealing with missing values, you'll use the same `score_dataset()` function from the tutorial.  This function reports the [mean absolute error](https://en.wikipedia.org/wiki/Mean_absolute_error) (MAE) from a random forest model."
   ]
  },
  {
   "cell_type": "code",
   "execution_count": 9,
   "id": "1afbb37e",
   "metadata": {
    "execution": {
     "iopub.execute_input": "2023-10-10T18:25:49.101712Z",
     "iopub.status.busy": "2023-10-10T18:25:49.101220Z",
     "iopub.status.idle": "2023-10-10T18:25:49.512418Z",
     "shell.execute_reply": "2023-10-10T18:25:49.511319Z"
    },
    "papermill": {
     "duration": 0.421922,
     "end_time": "2023-10-10T18:25:49.514830",
     "exception": false,
     "start_time": "2023-10-10T18:25:49.092908",
     "status": "completed"
    },
    "tags": []
   },
   "outputs": [],
   "source": [
    "from sklearn.ensemble import RandomForestRegressor\n",
    "from sklearn.metrics import mean_absolute_error\n",
    "\n",
    "# Function for comparing different approaches\n",
    "def score_dataset(X_train, X_valid, y_train, y_valid):\n",
    "    model = RandomForestRegressor(n_estimators=100, random_state=0)\n",
    "    model.fit(X_train, y_train)\n",
    "    preds = model.predict(X_valid)\n",
    "    return mean_absolute_error(y_valid, preds)"
   ]
  },
  {
   "cell_type": "markdown",
   "id": "99bb8f13",
   "metadata": {
    "papermill": {
     "duration": 0.006995,
     "end_time": "2023-10-10T18:25:49.529113",
     "exception": false,
     "start_time": "2023-10-10T18:25:49.522118",
     "status": "completed"
    },
    "tags": []
   },
   "source": [
    "# Step 2: Drop columns with missing values\n",
    "\n",
    "In this step, you'll preprocess the data in `X_train` and `X_valid` to remove columns with missing values.  Set the preprocessed DataFrames to `reduced_X_train` and `reduced_X_valid`, respectively.  "
   ]
  },
  {
   "cell_type": "code",
   "execution_count": 10,
   "id": "a0195a8a",
   "metadata": {
    "execution": {
     "iopub.execute_input": "2023-10-10T18:25:49.545443Z",
     "iopub.status.busy": "2023-10-10T18:25:49.545148Z",
     "iopub.status.idle": "2023-10-10T18:25:49.577217Z",
     "shell.execute_reply": "2023-10-10T18:25:49.576129Z"
    },
    "papermill": {
     "duration": 0.043198,
     "end_time": "2023-10-10T18:25:49.579453",
     "exception": false,
     "start_time": "2023-10-10T18:25:49.536255",
     "status": "completed"
    },
    "tags": []
   },
   "outputs": [
    {
     "data": {
      "application/javascript": [
       "parent.postMessage({\"jupyterEvent\": \"custom.exercise_interaction\", \"data\": {\"outcomeType\": 1, \"valueTowardsCompletion\": 1.0, \"interactionType\": 1, \"questionType\": 2, \"questionId\": \"2_DropMissing\", \"learnToolsVersion\": \"0.3.4\", \"failureMessage\": \"\", \"exceptionClass\": \"\", \"trace\": \"\"}}, \"*\")"
      ],
      "text/plain": [
       "<IPython.core.display.Javascript object>"
      ]
     },
     "metadata": {},
     "output_type": "display_data"
    },
    {
     "data": {
      "text/markdown": [
       "<span style=\"color:#33cc33\">Correct</span>"
      ],
      "text/plain": [
       "Correct"
      ]
     },
     "metadata": {},
     "output_type": "display_data"
    }
   ],
   "source": [
    "# Fill in the line below: get names of columns with missing values\n",
    "cols_with_missing_values = [col for col in X_train.columns if X_train[col].isnull().any()]# Your code here\n",
    "\n",
    "# Fill in the lines below: drop columns in training and validation data\n",
    "reduced_X_train = X_train.drop(cols_with_missing_values, axis=1)\n",
    "reduced_X_valid = X_valid.drop(cols_with_missing_values, axis=1)\n",
    "\n",
    "# Check your answers\n",
    "step_2.check()"
   ]
  },
  {
   "cell_type": "code",
   "execution_count": 11,
   "id": "ea0804ab",
   "metadata": {
    "execution": {
     "iopub.execute_input": "2023-10-10T18:25:49.596747Z",
     "iopub.status.busy": "2023-10-10T18:25:49.596392Z",
     "iopub.status.idle": "2023-10-10T18:25:49.600295Z",
     "shell.execute_reply": "2023-10-10T18:25:49.599504Z"
    },
    "papermill": {
     "duration": 0.014528,
     "end_time": "2023-10-10T18:25:49.602155",
     "exception": false,
     "start_time": "2023-10-10T18:25:49.587627",
     "status": "completed"
    },
    "tags": []
   },
   "outputs": [],
   "source": [
    "# Lines below will give you a hint or solution code\n",
    "#step_2.hint()\n",
    "#step_2.solution()"
   ]
  },
  {
   "cell_type": "markdown",
   "id": "7b3594e4",
   "metadata": {
    "papermill": {
     "duration": 0.006988,
     "end_time": "2023-10-10T18:25:49.616672",
     "exception": false,
     "start_time": "2023-10-10T18:25:49.609684",
     "status": "completed"
    },
    "tags": []
   },
   "source": [
    "Run the next code cell without changes to obtain the MAE for this approach."
   ]
  },
  {
   "cell_type": "code",
   "execution_count": 12,
   "id": "92ff4f2f",
   "metadata": {
    "execution": {
     "iopub.execute_input": "2023-10-10T18:25:49.633271Z",
     "iopub.status.busy": "2023-10-10T18:25:49.632922Z",
     "iopub.status.idle": "2023-10-10T18:25:50.830686Z",
     "shell.execute_reply": "2023-10-10T18:25:50.829463Z"
    },
    "papermill": {
     "duration": 1.208664,
     "end_time": "2023-10-10T18:25:50.832813",
     "exception": false,
     "start_time": "2023-10-10T18:25:49.624149",
     "status": "completed"
    },
    "tags": []
   },
   "outputs": [
    {
     "name": "stdout",
     "output_type": "stream",
     "text": [
      "MAE (Drop columns with missing values):\n",
      "17837.82570776256\n"
     ]
    }
   ],
   "source": [
    "print(\"MAE (Drop columns with missing values):\")\n",
    "print(score_dataset(reduced_X_train, reduced_X_valid, y_train, y_valid))"
   ]
  },
  {
   "cell_type": "markdown",
   "id": "0a9b7e93",
   "metadata": {
    "papermill": {
     "duration": 0.007626,
     "end_time": "2023-10-10T18:25:50.848661",
     "exception": false,
     "start_time": "2023-10-10T18:25:50.841035",
     "status": "completed"
    },
    "tags": []
   },
   "source": [
    "# Step 3: Imputation\n",
    "\n",
    "### Part A\n",
    "\n",
    "Use the next code cell to impute missing values with the mean value along each column.  Set the preprocessed DataFrames to `imputed_X_train` and `imputed_X_valid`.  Make sure that the column names match those in `X_train` and `X_valid`."
   ]
  },
  {
   "cell_type": "code",
   "execution_count": 13,
   "id": "8bcb1372",
   "metadata": {
    "execution": {
     "iopub.execute_input": "2023-10-10T18:25:50.865704Z",
     "iopub.status.busy": "2023-10-10T18:25:50.865324Z",
     "iopub.status.idle": "2023-10-10T18:25:50.901692Z",
     "shell.execute_reply": "2023-10-10T18:25:50.900724Z"
    },
    "papermill": {
     "duration": 0.047563,
     "end_time": "2023-10-10T18:25:50.903736",
     "exception": false,
     "start_time": "2023-10-10T18:25:50.856173",
     "status": "completed"
    },
    "tags": []
   },
   "outputs": [
    {
     "data": {
      "application/javascript": [
       "parent.postMessage({\"jupyterEvent\": \"custom.exercise_interaction\", \"data\": {\"outcomeType\": 1, \"valueTowardsCompletion\": 1.0, \"interactionType\": 1, \"questionType\": 2, \"questionId\": \"3.1_ImputeCode\", \"learnToolsVersion\": \"0.3.4\", \"failureMessage\": \"\", \"exceptionClass\": \"\", \"trace\": \"\"}}, \"*\")"
      ],
      "text/plain": [
       "<IPython.core.display.Javascript object>"
      ]
     },
     "metadata": {},
     "output_type": "display_data"
    },
    {
     "data": {
      "text/markdown": [
       "<span style=\"color:#33cc33\">Correct</span>"
      ],
      "text/plain": [
       "Correct"
      ]
     },
     "metadata": {},
     "output_type": "display_data"
    }
   ],
   "source": [
    "from sklearn.impute import SimpleImputer\n",
    "\n",
    "# Fill in the lines below: imputation\n",
    "# Your code here\n",
    "my_imputer = SimpleImputer()\n",
    "imputed_X_train = pd.DataFrame(my_imputer.fit_transform(X_train))\n",
    "imputed_X_valid = pd.DataFrame(my_imputer.transform(X_valid))\n",
    "\n",
    "# Fill in the lines below: imputation removed column names; put them back\n",
    "imputed_X_train.columns = X_train.columns\n",
    "imputed_X_valid.columns = X_valid.columns\n",
    "\n",
    "# Check your answers\n",
    "step_3.a.check()"
   ]
  },
  {
   "cell_type": "code",
   "execution_count": 14,
   "id": "b3ffcf08",
   "metadata": {
    "execution": {
     "iopub.execute_input": "2023-10-10T18:25:50.972726Z",
     "iopub.status.busy": "2023-10-10T18:25:50.972055Z",
     "iopub.status.idle": "2023-10-10T18:25:50.976395Z",
     "shell.execute_reply": "2023-10-10T18:25:50.975613Z"
    },
    "papermill": {
     "duration": 0.015631,
     "end_time": "2023-10-10T18:25:50.978201",
     "exception": false,
     "start_time": "2023-10-10T18:25:50.962570",
     "status": "completed"
    },
    "tags": []
   },
   "outputs": [],
   "source": [
    "# Lines below will give you a hint or solution code\n",
    "#step_3.a.hint()\n",
    "#step_3.a.solution()"
   ]
  },
  {
   "cell_type": "markdown",
   "id": "68a1bd9a",
   "metadata": {
    "papermill": {
     "duration": 0.007752,
     "end_time": "2023-10-10T18:25:50.994005",
     "exception": false,
     "start_time": "2023-10-10T18:25:50.986253",
     "status": "completed"
    },
    "tags": []
   },
   "source": [
    "Run the next code cell without changes to obtain the MAE for this approach."
   ]
  },
  {
   "cell_type": "code",
   "execution_count": 15,
   "id": "e2b2fe48",
   "metadata": {
    "execution": {
     "iopub.execute_input": "2023-10-10T18:25:51.011898Z",
     "iopub.status.busy": "2023-10-10T18:25:51.011568Z",
     "iopub.status.idle": "2023-10-10T18:25:52.357188Z",
     "shell.execute_reply": "2023-10-10T18:25:52.356115Z"
    },
    "papermill": {
     "duration": 1.356994,
     "end_time": "2023-10-10T18:25:52.359235",
     "exception": false,
     "start_time": "2023-10-10T18:25:51.002241",
     "status": "completed"
    },
    "tags": []
   },
   "outputs": [
    {
     "name": "stdout",
     "output_type": "stream",
     "text": [
      "MAE (Imputation):\n",
      "18062.894611872147\n"
     ]
    }
   ],
   "source": [
    "print(\"MAE (Imputation):\")\n",
    "print(score_dataset(imputed_X_train, imputed_X_valid, y_train, y_valid))"
   ]
  },
  {
   "cell_type": "markdown",
   "id": "35c2a163",
   "metadata": {
    "papermill": {
     "duration": 0.010278,
     "end_time": "2023-10-10T18:25:52.377894",
     "exception": false,
     "start_time": "2023-10-10T18:25:52.367616",
     "status": "completed"
    },
    "tags": []
   },
   "source": [
    "### Part B\n",
    "\n",
    "Compare the MAE from each approach.  Does anything surprise you about the results?  Why do you think one approach performed better than the other?"
   ]
  },
  {
   "cell_type": "code",
   "execution_count": 16,
   "id": "81d621e4",
   "metadata": {
    "execution": {
     "iopub.execute_input": "2023-10-10T18:25:52.396062Z",
     "iopub.status.busy": "2023-10-10T18:25:52.395703Z",
     "iopub.status.idle": "2023-10-10T18:25:52.403532Z",
     "shell.execute_reply": "2023-10-10T18:25:52.402539Z"
    },
    "papermill": {
     "duration": 0.018981,
     "end_time": "2023-10-10T18:25:52.405357",
     "exception": false,
     "start_time": "2023-10-10T18:25:52.386376",
     "status": "completed"
    },
    "tags": []
   },
   "outputs": [
    {
     "data": {
      "application/javascript": [
       "parent.postMessage({\"jupyterEvent\": \"custom.exercise_interaction\", \"data\": {\"outcomeType\": 1, \"valueTowardsCompletion\": 1.0, \"interactionType\": 1, \"questionType\": 4, \"questionId\": \"3.2_ImputeThought\", \"learnToolsVersion\": \"0.3.4\", \"failureMessage\": \"\", \"exceptionClass\": \"\", \"trace\": \"\"}}, \"*\")"
      ],
      "text/plain": [
       "<IPython.core.display.Javascript object>"
      ]
     },
     "metadata": {},
     "output_type": "display_data"
    },
    {
     "data": {
      "text/markdown": [
       "<span style=\"color:#33cc33\">Correct:</span> \n",
       "\n",
       "Given that thre are so few missing values in the dataset, we'd expect imputation to perform better than dropping columns entirely.  However, we see that dropping columns performs slightly better!  While this can probably partially be attributed to noise in the dataset, another potential explanation is that the imputation method is not a great match to this dataset.  That is, maybe instead of filling in the mean value, it makes more sense to set every missing value to a value of 0, to fill in the most frequently encountered value, or to use some other method.  For instance, consider the `GarageYrBlt` column (which indicates the year that the garage was built).  It's likely that in some cases, a missing value could indicate a house that does not have a garage.  Does it make more sense to fill in the median value along each column in this case?  Or could we get better results by filling in the minimum value along each column?  It's not quite clear what's best in this case, but perhaps we can rule out some options immediately - for instance, setting missing values in this column to 0 is likely to yield horrible results!"
      ],
      "text/plain": [
       "Correct: \n",
       "\n",
       "Given that thre are so few missing values in the dataset, we'd expect imputation to perform better than dropping columns entirely.  However, we see that dropping columns performs slightly better!  While this can probably partially be attributed to noise in the dataset, another potential explanation is that the imputation method is not a great match to this dataset.  That is, maybe instead of filling in the mean value, it makes more sense to set every missing value to a value of 0, to fill in the most frequently encountered value, or to use some other method.  For instance, consider the `GarageYrBlt` column (which indicates the year that the garage was built).  It's likely that in some cases, a missing value could indicate a house that does not have a garage.  Does it make more sense to fill in the median value along each column in this case?  Or could we get better results by filling in the minimum value along each column?  It's not quite clear what's best in this case, but perhaps we can rule out some options immediately - for instance, setting missing values in this column to 0 is likely to yield horrible results!"
      ]
     },
     "metadata": {},
     "output_type": "display_data"
    }
   ],
   "source": [
    "# Check your answer (Run this code cell to receive credit!)\n",
    "step_3.b.check()"
   ]
  },
  {
   "cell_type": "code",
   "execution_count": 17,
   "id": "c6eeb045",
   "metadata": {
    "execution": {
     "iopub.execute_input": "2023-10-10T18:25:52.423667Z",
     "iopub.status.busy": "2023-10-10T18:25:52.423079Z",
     "iopub.status.idle": "2023-10-10T18:25:52.426624Z",
     "shell.execute_reply": "2023-10-10T18:25:52.425845Z"
    },
    "papermill": {
     "duration": 0.01472,
     "end_time": "2023-10-10T18:25:52.428526",
     "exception": false,
     "start_time": "2023-10-10T18:25:52.413806",
     "status": "completed"
    },
    "tags": []
   },
   "outputs": [],
   "source": [
    "#step_3.b.hint()"
   ]
  },
  {
   "cell_type": "markdown",
   "id": "65c960b7",
   "metadata": {
    "papermill": {
     "duration": 0.008302,
     "end_time": "2023-10-10T18:25:52.445192",
     "exception": false,
     "start_time": "2023-10-10T18:25:52.436890",
     "status": "completed"
    },
    "tags": []
   },
   "source": [
    "# Step 4: Generate test predictions\n",
    "\n",
    "In this final step, you'll use any approach of your choosing to deal with missing values.  Once you've preprocessed the training and validation features, you'll train and evaluate a random forest model.  Then, you'll preprocess the test data before generating predictions that can be submitted to the competition!\n",
    "\n",
    "### Part A\n",
    "\n",
    "Use the next code cell to preprocess the training and validation data.  Set the preprocessed DataFrames to `final_X_train` and `final_X_valid`.  **You can use any approach of your choosing here!**  in order for this step to be marked as correct, you need only ensure:\n",
    "- the preprocessed DataFrames have the same number of columns,\n",
    "- the preprocessed DataFrames have no missing values, \n",
    "- `final_X_train` and `y_train` have the same number of rows, and\n",
    "- `final_X_valid` and `y_valid` have the same number of rows."
   ]
  },
  {
   "cell_type": "code",
   "execution_count": 18,
   "id": "a5538a39",
   "metadata": {
    "execution": {
     "iopub.execute_input": "2023-10-10T18:25:52.465956Z",
     "iopub.status.busy": "2023-10-10T18:25:52.465576Z",
     "iopub.status.idle": "2023-10-10T18:25:52.484405Z",
     "shell.execute_reply": "2023-10-10T18:25:52.483720Z"
    },
    "papermill": {
     "duration": 0.032576,
     "end_time": "2023-10-10T18:25:52.486334",
     "exception": false,
     "start_time": "2023-10-10T18:25:52.453758",
     "status": "completed"
    },
    "tags": []
   },
   "outputs": [
    {
     "data": {
      "application/javascript": [
       "parent.postMessage({\"jupyterEvent\": \"custom.exercise_interaction\", \"data\": {\"outcomeType\": 1, \"valueTowardsCompletion\": 1.0, \"interactionType\": 1, \"questionType\": 2, \"questionId\": \"4.1_PredsCodeA\", \"learnToolsVersion\": \"0.3.4\", \"failureMessage\": \"\", \"exceptionClass\": \"\", \"trace\": \"\"}}, \"*\")"
      ],
      "text/plain": [
       "<IPython.core.display.Javascript object>"
      ]
     },
     "metadata": {},
     "output_type": "display_data"
    },
    {
     "data": {
      "text/markdown": [
       "<span style=\"color:#33cc33\">Correct</span>"
      ],
      "text/plain": [
       "Correct"
      ]
     },
     "metadata": {},
     "output_type": "display_data"
    }
   ],
   "source": [
    "# Preprocessed training and validation features\n",
    "final_X_train = imputed_X_train\n",
    "final_X_valid = imputed_X_valid\n",
    "\n",
    "# Check your answers\n",
    "step_4.a.check()"
   ]
  },
  {
   "cell_type": "code",
   "execution_count": 19,
   "id": "a307ec17",
   "metadata": {
    "execution": {
     "iopub.execute_input": "2023-10-10T18:25:52.506179Z",
     "iopub.status.busy": "2023-10-10T18:25:52.505425Z",
     "iopub.status.idle": "2023-10-10T18:25:52.509826Z",
     "shell.execute_reply": "2023-10-10T18:25:52.508810Z"
    },
    "papermill": {
     "duration": 0.016365,
     "end_time": "2023-10-10T18:25:52.511602",
     "exception": false,
     "start_time": "2023-10-10T18:25:52.495237",
     "status": "completed"
    },
    "tags": []
   },
   "outputs": [],
   "source": [
    "# Lines below will give you a hint or solution code\n",
    "#step_4.a.hint()\n",
    "#step_4.a.solution()"
   ]
  },
  {
   "cell_type": "markdown",
   "id": "957d20c8",
   "metadata": {
    "papermill": {
     "duration": 0.00824,
     "end_time": "2023-10-10T18:25:52.528666",
     "exception": false,
     "start_time": "2023-10-10T18:25:52.520426",
     "status": "completed"
    },
    "tags": []
   },
   "source": [
    "Run the next code cell to train and evaluate a random forest model.  (*Note that we don't use the `score_dataset()` function above, because we will soon use the trained model to generate test predictions!*)"
   ]
  },
  {
   "cell_type": "code",
   "execution_count": 20,
   "id": "28801d5d",
   "metadata": {
    "execution": {
     "iopub.execute_input": "2023-10-10T18:25:52.547769Z",
     "iopub.status.busy": "2023-10-10T18:25:52.546780Z",
     "iopub.status.idle": "2023-10-10T18:25:53.876653Z",
     "shell.execute_reply": "2023-10-10T18:25:53.875856Z"
    },
    "papermill": {
     "duration": 1.341645,
     "end_time": "2023-10-10T18:25:53.878970",
     "exception": false,
     "start_time": "2023-10-10T18:25:52.537325",
     "status": "completed"
    },
    "tags": []
   },
   "outputs": [
    {
     "name": "stdout",
     "output_type": "stream",
     "text": [
      "MAE (Your approach):\n",
      "18062.894611872147\n"
     ]
    }
   ],
   "source": [
    "# Define and fit model\n",
    "model = RandomForestRegressor(n_estimators=100, random_state=0)\n",
    "model.fit(final_X_train, y_train)\n",
    "\n",
    "# Get validation predictions and MAE\n",
    "preds_valid = model.predict(final_X_valid)\n",
    "print(\"MAE (Your approach):\")\n",
    "print(mean_absolute_error(y_valid, preds_valid))"
   ]
  },
  {
   "cell_type": "markdown",
   "id": "6f063714",
   "metadata": {
    "papermill": {
     "duration": 0.008761,
     "end_time": "2023-10-10T18:25:53.897198",
     "exception": false,
     "start_time": "2023-10-10T18:25:53.888437",
     "status": "completed"
    },
    "tags": []
   },
   "source": [
    "### Part B\n",
    "\n",
    "Use the next code cell to preprocess your test data.  Make sure that you use a method that agrees with how you preprocessed the training and validation data, and set the preprocessed test features to `final_X_test`.\n",
    "\n",
    "Then, use the preprocessed test features and the trained model to generate test predictions in `preds_test`.\n",
    "\n",
    "In order for this step to be marked correct, you need only ensure:\n",
    "- the preprocessed test DataFrame has no missing values, and\n",
    "- `final_X_test` has the same number of rows as `X_test`."
   ]
  },
  {
   "cell_type": "code",
   "execution_count": 21,
   "id": "9b320a5a",
   "metadata": {
    "execution": {
     "iopub.execute_input": "2023-10-10T18:25:53.916519Z",
     "iopub.status.busy": "2023-10-10T18:25:53.916179Z",
     "iopub.status.idle": "2023-10-10T18:25:53.964789Z",
     "shell.execute_reply": "2023-10-10T18:25:53.963659Z"
    },
    "papermill": {
     "duration": 0.060886,
     "end_time": "2023-10-10T18:25:53.967016",
     "exception": false,
     "start_time": "2023-10-10T18:25:53.906130",
     "status": "completed"
    },
    "tags": []
   },
   "outputs": [
    {
     "name": "stderr",
     "output_type": "stream",
     "text": [
      "/opt/conda/lib/python3.10/site-packages/sklearn/base.py:439: UserWarning: X does not have valid feature names, but RandomForestRegressor was fitted with feature names\n",
      "  warnings.warn(\n"
     ]
    },
    {
     "data": {
      "application/javascript": [
       "parent.postMessage({\"jupyterEvent\": \"custom.exercise_interaction\", \"data\": {\"outcomeType\": 1, \"valueTowardsCompletion\": 1.0, \"interactionType\": 1, \"questionType\": 2, \"questionId\": \"4.2_PredsCodeB\", \"learnToolsVersion\": \"0.3.4\", \"failureMessage\": \"\", \"exceptionClass\": \"\", \"trace\": \"\"}}, \"*\")"
      ],
      "text/plain": [
       "<IPython.core.display.Javascript object>"
      ]
     },
     "metadata": {},
     "output_type": "display_data"
    },
    {
     "data": {
      "text/markdown": [
       "<span style=\"color:#33cc33\">Correct</span>"
      ],
      "text/plain": [
       "Correct"
      ]
     },
     "metadata": {},
     "output_type": "display_data"
    }
   ],
   "source": [
    "# Fill in the line below: preprocess test data\n",
    "final_X_test = pd.DataFrame(my_imputer.transform(X_test))\n",
    "\n",
    "# Fill in the line below: get test predictions\n",
    "preds_test = model.predict(final_X_test)\n",
    "\n",
    "# Check your answers\n",
    "step_4.b.check()"
   ]
  },
  {
   "cell_type": "code",
   "execution_count": 22,
   "id": "cc2d74df",
   "metadata": {
    "execution": {
     "iopub.execute_input": "2023-10-10T18:25:53.987464Z",
     "iopub.status.busy": "2023-10-10T18:25:53.987115Z",
     "iopub.status.idle": "2023-10-10T18:25:53.991468Z",
     "shell.execute_reply": "2023-10-10T18:25:53.990502Z"
    },
    "papermill": {
     "duration": 0.016659,
     "end_time": "2023-10-10T18:25:53.993299",
     "exception": false,
     "start_time": "2023-10-10T18:25:53.976640",
     "status": "completed"
    },
    "tags": []
   },
   "outputs": [],
   "source": [
    "# Lines below will give you a hint or solution code\n",
    "#step_4.b.hint()\n",
    "#step_4.b.solution()"
   ]
  },
  {
   "cell_type": "markdown",
   "id": "456bc116",
   "metadata": {
    "papermill": {
     "duration": 0.009322,
     "end_time": "2023-10-10T18:25:54.011703",
     "exception": false,
     "start_time": "2023-10-10T18:25:54.002381",
     "status": "completed"
    },
    "tags": []
   },
   "source": [
    "Run the next code cell without changes to save your results to a CSV file that can be submitted directly to the competition."
   ]
  },
  {
   "cell_type": "code",
   "execution_count": 23,
   "id": "4e026dfd",
   "metadata": {
    "execution": {
     "iopub.execute_input": "2023-10-10T18:25:54.031217Z",
     "iopub.status.busy": "2023-10-10T18:25:54.030885Z",
     "iopub.status.idle": "2023-10-10T18:25:54.041434Z",
     "shell.execute_reply": "2023-10-10T18:25:54.040689Z"
    },
    "papermill": {
     "duration": 0.02279,
     "end_time": "2023-10-10T18:25:54.043420",
     "exception": false,
     "start_time": "2023-10-10T18:25:54.020630",
     "status": "completed"
    },
    "tags": []
   },
   "outputs": [],
   "source": [
    "# Save test predictions to file\n",
    "output = pd.DataFrame({'Id': X_test.index,\n",
    "                       'SalePrice': preds_test})\n",
    "output.to_csv('submission.csv', index=False)"
   ]
  },
  {
   "cell_type": "markdown",
   "id": "70920d4d",
   "metadata": {
    "papermill": {
     "duration": 0.008728,
     "end_time": "2023-10-10T18:25:54.061404",
     "exception": false,
     "start_time": "2023-10-10T18:25:54.052676",
     "status": "completed"
    },
    "tags": []
   },
   "source": [
    "# Submit your results\n",
    "\n",
    "Once you have successfully completed Step 4, you're ready to submit your results to the leaderboard!  (_You also learned how to do this in the previous exercise.  If you need a reminder of how to do this, please use the instructions below._)  \n",
    "\n",
    "First, you'll need to join the competition if you haven't already.  So open a new window by clicking on [this link](https://www.kaggle.com/c/home-data-for-ml-course).  Then click on the **Join Competition** button.\n",
    "\n",
    "![join competition image](https://storage.googleapis.com/kaggle-media/learn/images/wLmFtH3.png)\n",
    "\n",
    "Next, follow the instructions below:\n",
    "1. Begin by clicking on the **Save Version** button in the top right corner of the window.  This will generate a pop-up window.  \n",
    "2. Ensure that the **Save and Run All** option is selected, and then click on the **Save** button.\n",
    "3. This generates a window in the bottom left corner of the notebook.  After it has finished running, click on the number to the right of the **Save Version** button.  This pulls up a list of versions on the right of the screen.  Click on the ellipsis **(...)** to the right of the most recent version, and select **Open in Viewer**.  This brings you into view mode of the same page. You will need to scroll down to get back to these instructions.\n",
    "4. Click on the **Data** tab near the top of the screen.  Then, click on the file you would like to submit, and click on the **Submit** button to submit your results to the leaderboard.\n",
    "\n",
    "You have now successfully submitted to the competition!\n",
    "\n",
    "If you want to keep working to improve your performance, select the **Edit** button in the top right of the screen. Then you can change your code and repeat the process. There's a lot of room to improve, and you will climb up the leaderboard as you work.\n",
    "\n",
    "\n",
    "# Keep going\n",
    "\n",
    "Move on to learn what **[categorical variables](https://www.kaggle.com/alexisbcook/categorical-variables)** are, along with how to incorporate them into your machine learning models.  Categorical variables are very common in real-world data, but you'll get an error if you try to plug them into your models without processing them first!"
   ]
  },
  {
   "cell_type": "markdown",
   "id": "6fac1ae0",
   "metadata": {
    "papermill": {
     "duration": 0.008773,
     "end_time": "2023-10-10T18:25:54.079175",
     "exception": false,
     "start_time": "2023-10-10T18:25:54.070402",
     "status": "completed"
    },
    "tags": []
   },
   "source": [
    "---\n",
    "\n",
    "\n",
    "\n",
    "\n",
    "*Have questions or comments? Visit the [course discussion forum](https://www.kaggle.com/learn/intermediate-machine-learning/discussion) to chat with other learners.*"
   ]
  }
 ],
 "metadata": {
  "kernelspec": {
   "display_name": "Python 3",
   "language": "python",
   "name": "python3"
  },
  "language_info": {
   "codemirror_mode": {
    "name": "ipython",
    "version": 3
   },
   "file_extension": ".py",
   "mimetype": "text/x-python",
   "name": "python",
   "nbconvert_exporter": "python",
   "pygments_lexer": "ipython3",
   "version": "3.10.12"
  },
  "papermill": {
   "default_parameters": {},
   "duration": 11.484763,
   "end_time": "2023-10-10T18:25:54.607710",
   "environment_variables": {},
   "exception": null,
   "input_path": "__notebook__.ipynb",
   "output_path": "__notebook__.ipynb",
   "parameters": {},
   "start_time": "2023-10-10T18:25:43.122947",
   "version": "2.4.0"
  }
 },
 "nbformat": 4,
 "nbformat_minor": 5
}
